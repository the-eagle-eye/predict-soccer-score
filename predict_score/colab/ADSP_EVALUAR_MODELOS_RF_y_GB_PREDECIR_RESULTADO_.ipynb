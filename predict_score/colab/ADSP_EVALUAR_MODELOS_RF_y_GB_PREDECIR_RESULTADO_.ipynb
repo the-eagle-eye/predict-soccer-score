{
  "nbformat": 4,
  "nbformat_minor": 0,
  "metadata": {
    "colab": {
      "provenance": []
    },
    "kernelspec": {
      "name": "python3",
      "display_name": "Python 3"
    },
    "language_info": {
      "name": "python"
    }
  },
  "cells": [
    {
      "cell_type": "code",
      "execution_count": 1,
      "metadata": {
        "id": "m11nH0aTQhfP"
      },
      "outputs": [],
      "source": [
        "# Importar librerías necesarias\n",
        "import pandas as pd\n",
        "from sklearn.preprocessing import StandardScaler, OneHotEncoder\n",
        "from sklearn.compose import ColumnTransformer\n",
        "from sklearn.model_selection import train_test_split\n",
        "from sklearn.ensemble import RandomForestRegressor, GradientBoostingRegressor\n",
        "from sklearn.metrics import mean_squared_error\n",
        "import matplotlib.pyplot as plt\n",
        "import numpy as np\n",
        "#!pip3 install joblib\n",
        "import joblib\n",
        "\n",
        "# List of URLs of the datasets\n",
        "urls = [\n",
        "    \"https://www.football-data.co.uk/mmz4281/2425/E0.csv\",\n",
        "    \"https://www.football-data.co.uk/mmz4281/2324/E0.csv\",\n",
        "    \"https://www.football-data.co.uk/mmz4281/2223/E0.csv\",\n",
        "    \"https://www.football-data.co.uk/mmz4281/2122/E0.csv\",\n",
        "    \"https://www.football-data.co.uk/mmz4281/2021/E0.csv\",\n",
        "    \"https://www.football-data.co.uk/mmz4281/1920/E0.csv\",\n",
        "]"
      ]
    },
    {
      "cell_type": "markdown",
      "source": [
        "## Cargar Datos"
      ],
      "metadata": {
        "id": "GT1-fxE1SEEE"
      }
    },
    {
      "cell_type": "code",
      "source": [
        "# Cargar todos los CSVs\n",
        "dfs = [pd.read_csv(url) for url in urls]\n",
        "\n",
        "# Visualizar las primeras filas de cada dataset para inspeccionar la estructura\n",
        "for i, df in enumerate(dfs):\n",
        "    print(f\"DataFrame {i+1}:\")\n",
        "    print(df.head(), \"\\n\")"
      ],
      "metadata": {
        "colab": {
          "base_uri": "https://localhost:8080/"
        },
        "id": "nStc4OPaSDs3",
        "outputId": "c6287569-267b-4ff6-e6d9-98b4c9a1478b"
      },
      "execution_count": 2,
      "outputs": [
        {
          "output_type": "stream",
          "name": "stdout",
          "text": [
            "DataFrame 1:\n",
            "  Div        Date   Time    HomeTeam     AwayTeam  FTHG  FTAG FTR  HTHG  HTAG  \\\n",
            "0  E0  16/08/2024  20:00  Man United       Fulham     1     0   H     0     0   \n",
            "1  E0  17/08/2024  12:30     Ipswich    Liverpool     0     2   A     0     0   \n",
            "2  E0  17/08/2024  15:00     Arsenal       Wolves     2     0   H     1     0   \n",
            "3  E0  17/08/2024  15:00     Everton     Brighton     0     3   A     0     1   \n",
            "4  E0  17/08/2024  15:00   Newcastle  Southampton     1     0   H     1     0   \n",
            "\n",
            "   ... B365CAHH B365CAHA  PCAHH  PCAHA  MaxCAHH  MaxCAHA  AvgCAHH  AvgCAHA  \\\n",
            "0  ...     1.86     2.07   1.83   2.11     1.88     2.11     1.82     2.05   \n",
            "1  ...     2.05     1.88   2.04   1.90     2.20     2.00     1.99     1.88   \n",
            "2  ...     2.02     1.91   2.00   1.90     2.05     1.93     1.99     1.87   \n",
            "3  ...     1.87     2.06   1.86   2.07     1.92     2.10     1.83     2.04   \n",
            "4  ...     1.87     2.06   1.88   2.06     1.89     2.10     1.82     2.05   \n",
            "\n",
            "   BFECAHH  BFECAHA  \n",
            "0     1.90     2.08  \n",
            "1     2.04     1.93  \n",
            "2     2.02     1.96  \n",
            "3     1.88     2.11  \n",
            "4     1.89     2.10  \n",
            "\n",
            "[5 rows x 120 columns] \n",
            "\n",
            "DataFrame 2:\n",
            "  Div        Date   Time     HomeTeam       AwayTeam  FTHG  FTAG FTR  HTHG  \\\n",
            "0  E0  11/08/2023  20:00      Burnley       Man City     0     3   A     0   \n",
            "1  E0  12/08/2023  12:30      Arsenal  Nott'm Forest     2     1   H     2   \n",
            "2  E0  12/08/2023  15:00  Bournemouth       West Ham     1     1   D     0   \n",
            "3  E0  12/08/2023  15:00     Brighton          Luton     4     1   H     1   \n",
            "4  E0  12/08/2023  15:00      Everton         Fulham     0     1   A     0   \n",
            "\n",
            "   HTAG  ... AvgC<2.5  AHCh  B365CAHH  B365CAHA  PCAHH  PCAHA  MaxCAHH  \\\n",
            "0     2  ...     2.28  1.50      1.95      1.98   1.95   1.97      NaN   \n",
            "1     0  ...     2.63 -2.00      1.95      1.98   1.93   1.97     2.01   \n",
            "2     0  ...     2.12  0.00      2.02      1.91   2.01   1.92     2.06   \n",
            "3     0  ...     2.48 -1.75      2.01      1.92   2.00   1.91     2.14   \n",
            "4     0  ...     1.71 -0.25      2.06      1.87   2.04   1.88     2.08   \n",
            "\n",
            "   MaxCAHA  AvgCAHH  AvgCAHA  \n",
            "0      NaN     1.92     1.95  \n",
            "1     2.09     1.95     1.92  \n",
            "2     1.96     1.96     1.91  \n",
            "3     1.93     2.00     1.86  \n",
            "4     1.99     1.98     1.88  \n",
            "\n",
            "[5 rows x 106 columns] \n",
            "\n",
            "DataFrame 3:\n",
            "  Div        Date   Time        HomeTeam       AwayTeam  FTHG  FTAG FTR  HTHG  \\\n",
            "0  E0  05/08/2022  20:00  Crystal Palace        Arsenal     0     2   A     0   \n",
            "1  E0  06/08/2022  12:30          Fulham      Liverpool     2     2   D     1   \n",
            "2  E0  06/08/2022  15:00     Bournemouth    Aston Villa     2     0   H     1   \n",
            "3  E0  06/08/2022  15:00           Leeds         Wolves     2     1   H     1   \n",
            "4  E0  06/08/2022  15:00       Newcastle  Nott'm Forest     2     0   H     0   \n",
            "\n",
            "   HTAG  ... AvgC<2.5  AHCh  B365CAHH  B365CAHA  PCAHH  PCAHA  MaxCAHH  \\\n",
            "0     1  ...     1.76  0.50      2.09      1.84   2.04   1.88     2.09   \n",
            "1     0  ...     2.73  1.75      1.90      2.03   1.91   2.02     2.01   \n",
            "2     0  ...     1.76  0.50      1.93      2.00   1.93   2.00     1.94   \n",
            "3     1  ...     1.87 -0.25      2.08      1.85   2.10   1.84     2.14   \n",
            "4     0  ...     1.89 -1.00      1.97      1.96   1.99   1.93     2.19   \n",
            "\n",
            "   MaxCAHA  AvgCAHH  AvgCAHA  \n",
            "0     1.88     2.03     1.85  \n",
            "1     2.06     1.89     1.99  \n",
            "2     2.04     1.88     2.00  \n",
            "3     1.87     2.08     1.81  \n",
            "4     1.97     2.03     1.86  \n",
            "\n",
            "[5 rows x 106 columns] \n",
            "\n",
            "DataFrame 4:\n",
            "  Div        Date   Time    HomeTeam        AwayTeam  FTHG  FTAG FTR  HTHG  \\\n",
            "0  E0  13/08/2021  20:00   Brentford         Arsenal     2     0   H     1   \n",
            "1  E0  14/08/2021  12:30  Man United           Leeds     5     1   H     1   \n",
            "2  E0  14/08/2021  15:00     Burnley        Brighton     1     2   A     1   \n",
            "3  E0  14/08/2021  15:00     Chelsea  Crystal Palace     3     0   H     2   \n",
            "4  E0  14/08/2021  15:00     Everton     Southampton     3     1   H     0   \n",
            "\n",
            "   HTAG  ... AvgC<2.5  AHCh  B365CAHH  B365CAHA  PCAHH  PCAHA  MaxCAHH  \\\n",
            "0     0  ...     1.62  0.50      1.75      2.05   1.81   2.13     2.05   \n",
            "1     0  ...     2.25 -1.00      2.05      1.75   2.17   1.77     2.19   \n",
            "2     0  ...     1.62  0.25      1.79      2.15   1.81   2.14     1.82   \n",
            "3     0  ...     1.94 -1.50      2.05      1.75   2.12   1.81     2.16   \n",
            "4     1  ...     1.67 -0.50      2.05      1.88   2.05   1.88     2.08   \n",
            "\n",
            "   MaxCAHA  AvgCAHH  AvgCAHA  \n",
            "0     2.17     1.80     2.09  \n",
            "1     1.93     2.10     1.79  \n",
            "2     2.19     1.79     2.12  \n",
            "3     1.93     2.06     1.82  \n",
            "4     1.90     2.03     1.86  \n",
            "\n",
            "[5 rows x 106 columns] \n",
            "\n",
            "DataFrame 5:\n",
            "  Div        Date   Time        HomeTeam     AwayTeam  FTHG  FTAG FTR  HTHG  \\\n",
            "0  E0  12/09/2020  12:30          Fulham      Arsenal     0     3   A     0   \n",
            "1  E0  12/09/2020  15:00  Crystal Palace  Southampton     1     0   H     1   \n",
            "2  E0  12/09/2020  17:30       Liverpool        Leeds     4     3   H     3   \n",
            "3  E0  12/09/2020  20:00        West Ham    Newcastle     0     2   A     0   \n",
            "4  E0  13/09/2020  14:00       West Brom    Leicester     0     3   A     0   \n",
            "\n",
            "   HTAG  ... AvgC<2.5  AHCh  B365CAHH  B365CAHA  PCAHH  PCAHA  MaxCAHH  \\\n",
            "0     1  ...     1.84  0.75      2.01      1.89   2.02   1.91     2.13   \n",
            "1     0  ...     1.70  0.25      1.78      2.13   1.79   2.17     1.85   \n",
            "2     2  ...     2.62 -1.50      1.85      2.05   1.85   2.08     1.90   \n",
            "3     0  ...     1.92 -0.50      2.03      1.87   2.04   1.88     2.09   \n",
            "4     0  ...     1.73  0.25      1.92      1.98   1.93   1.99     1.95   \n",
            "\n",
            "   MaxCAHA  AvgCAHH  AvgCAHA  \n",
            "0     1.92     2.02     1.87  \n",
            "1     2.18     1.79     2.12  \n",
            "2     2.16     1.84     2.04  \n",
            "3     1.91     2.02     1.86  \n",
            "4     2.01     1.91     1.97  \n",
            "\n",
            "[5 rows x 106 columns] \n",
            "\n",
            "DataFrame 6:\n",
            "  Div        Date   Time        HomeTeam          AwayTeam  FTHG  FTAG FTR  \\\n",
            "0  E0  09/08/2019  20:00       Liverpool           Norwich     4     1   H   \n",
            "1  E0  10/08/2019  12:30        West Ham          Man City     0     5   A   \n",
            "2  E0  10/08/2019  15:00     Bournemouth  Sheffield United     1     1   D   \n",
            "3  E0  10/08/2019  15:00         Burnley       Southampton     3     0   H   \n",
            "4  E0  10/08/2019  15:00  Crystal Palace           Everton     0     0   D   \n",
            "\n",
            "   HTHG  HTAG  ... AvgC<2.5  AHCh  B365CAHH  B365CAHA  PCAHH  PCAHA  MaxCAHH  \\\n",
            "0     4     0  ...     3.43 -2.25      1.91      1.99   1.94   1.98     1.99   \n",
            "1     0     1  ...     2.91  1.75      1.95      1.95   1.96   1.97     2.07   \n",
            "2     0     0  ...     1.92 -0.50      1.95      1.95   1.98   1.95     2.00   \n",
            "3     0     0  ...     1.71  0.00      1.87      2.03   1.89   2.03     1.90   \n",
            "4     0     0  ...     1.71  0.25      1.82      2.08   1.97   1.96     2.03   \n",
            "\n",
            "   MaxCAHA  AvgCAHH  AvgCAHA  \n",
            "0     2.07     1.90     1.99  \n",
            "1     1.98     1.97     1.92  \n",
            "2     1.96     1.96     1.92  \n",
            "3     2.07     1.86     2.02  \n",
            "4     2.08     1.96     1.93  \n",
            "\n",
            "[5 rows x 106 columns] \n",
            "\n"
          ]
        }
      ]
    },
    {
      "cell_type": "markdown",
      "source": [
        "## Unir DataFrames"
      ],
      "metadata": {
        "id": "v3qKAAofShby"
      }
    },
    {
      "cell_type": "code",
      "source": [
        "# Unir todos los DataFrames en uno solo\n",
        "matches = pd.concat(dfs, ignore_index=True)\n",
        "\n",
        "# Verificar el tamaño del DataFrame combinado\n",
        "print(matches.shape)"
      ],
      "metadata": {
        "colab": {
          "base_uri": "https://localhost:8080/"
        },
        "id": "RaVAP1dUSjzH",
        "outputId": "f4f00e30-6ceb-44a8-e9af-1e1aef48023a"
      },
      "execution_count": 3,
      "outputs": [
        {
          "output_type": "stream",
          "name": "stdout",
          "text": [
            "(2020, 132)\n"
          ]
        }
      ]
    },
    {
      "cell_type": "code",
      "source": [
        "# Load and preprocess the dataset\n",
        "def load_and_preprocess_data():\n",
        "    # Create features\n",
        "    matches['goal_difference'] = matches['FTHG'] - matches['FTAG']\n",
        "    matches['HF'] = matches.groupby('HomeTeam')['goal_difference'].rolling(5).mean().reset_index(level=0, drop=True)\n",
        "    matches['AF'] = matches.groupby('AwayTeam')['goal_difference'].rolling(5).mean().reset_index(level=0, drop=True)\n",
        "\n",
        "    features = ['FTHG', 'FTAG', 'HS', 'AS', 'HST', 'AST', 'HC', 'AC', 'HY', 'AY', 'HR', 'AR', 'HF', 'AF', 'HomeTeam', 'AwayTeam']\n",
        "    matches.fillna(0, inplace=True)\n",
        "    return matches, features"
      ],
      "metadata": {
        "id": "9tSdUHoCjX6i"
      },
      "execution_count": 4,
      "outputs": []
    },
    {
      "cell_type": "markdown",
      "source": [
        "## train_test_split"
      ],
      "metadata": {
        "id": "3HwuTrODQvPB"
      }
    },
    {
      "cell_type": "code",
      "source": [
        "# Prepare train/test split\n",
        "def prepare_data(matches, features, target):\n",
        "    X = matches[features]\n",
        "    y = matches[target]\n",
        "\n",
        "    X_train, X_test, y_train, y_test = train_test_split(X,y,random_state = 123, test_size = 0.2)\n",
        "\n",
        "    return X_train, X_test, y_train, y_test\n"
      ],
      "metadata": {
        "id": "c_VCh2YNQuPY"
      },
      "execution_count": 5,
      "outputs": []
    },
    {
      "cell_type": "code",
      "source": [
        "# Create preprocessing pipeline\n",
        "def create_preprocessor():\n",
        "    numeric_features = ['HF', 'AF']\n",
        "    categorical_features = ['HomeTeam', 'AwayTeam']\n",
        "\n",
        "    numeric_transformer = StandardScaler()\n",
        "    categorical_transformer = OneHotEncoder(handle_unknown='ignore')\n",
        "\n",
        "    preprocessor = ColumnTransformer(\n",
        "        transformers=[\n",
        "            ('num', numeric_transformer, numeric_features),\n",
        "            ('cat', categorical_transformer, categorical_features)\n",
        "        ]\n",
        "    )\n",
        "    return preprocessor\n"
      ],
      "metadata": {
        "id": "95mT-jTKjq4x"
      },
      "execution_count": 6,
      "outputs": []
    },
    {
      "cell_type": "code",
      "source": [
        "# Train a Random Forest model\n",
        "def train_random_forest(X_train, y_train):\n",
        "    model = RandomForestRegressor(n_estimators=100, random_state=42)\n",
        "    model.fit(X_train, y_train)\n",
        "    return model"
      ],
      "metadata": {
        "id": "d0X19FsNjvPl"
      },
      "execution_count": 7,
      "outputs": []
    },
    {
      "cell_type": "markdown",
      "source": [
        "# Train a Random Forest model\n",
        "def train_random_forest(X_train, y_train):\n",
        "    model = RandomForestRegressor(n_estimators=100, random_state=42)\n",
        "    model.fit(X_train, y_train)\n",
        "    return model"
      ],
      "metadata": {
        "id": "LByzmRuJW8DM"
      }
    },
    {
      "cell_type": "code",
      "source": [
        "# Predict match outcome\n",
        "def predict_match(home_team, away_team, historical_matches, preprocessor, home_model, away_model):\n",
        "    def calculate_average_form(team, matches, home_or_away):\n",
        "        team_matches = matches[matches[f'{home_or_away}Team'] == team]\n",
        "        if len(team_matches) < 5:\n",
        "            return team_matches['goal_difference'].mean()\n",
        "        return team_matches['goal_difference'].rolling(5).mean().iloc[-1]\n",
        "\n",
        "    # Validate if teams exist in the dataset\n",
        "    if home_team not in historical_matches['HomeTeam'].values and home_team not in historical_matches['AwayTeam'].values:\n",
        "        print(f\"Error: '{home_team}' does not exist in the dataset.\")\n",
        "        return None\n",
        "\n",
        "    if away_team not in historical_matches['HomeTeam'].values and away_team not in historical_matches['AwayTeam'].values:\n",
        "        print(f\"Error: '{away_team}' does not exist in the dataset.\")\n",
        "        return None\n",
        "\n",
        "    # Calculate team form\n",
        "    home_team_form = calculate_average_form(home_team, historical_matches, 'Home') or 0\n",
        "    away_team_form = calculate_average_form(away_team, historical_matches, 'Away') or 0\n",
        "\n",
        "    # Prepare data for prediction\n",
        "    new_match = pd.DataFrame({\n",
        "        'HomeTeam': [home_team],\n",
        "        'AwayTeam': [away_team],\n",
        "        'HF': [home_team_form],\n",
        "        'AF': [away_team_form]\n",
        "    })\n",
        "\n",
        "    new_match_preprocessed = preprocessor.transform(new_match)\n",
        "\n",
        "    # Predict scores\n",
        "    home_goals = round(home_model.predict(new_match_preprocessed)[0])\n",
        "    away_goals = round(away_model.predict(new_match_preprocessed)[0])\n",
        "\n",
        "    print(f'Predicted goals: {home_team} {home_goals} - {away_goals} {away_team}')\n",
        "\n",
        "    if home_goals > away_goals:\n",
        "        return f'{home_team} wins'\n",
        "    elif home_goals < away_goals:\n",
        "        return f'{away_team} wins'\n",
        "    else:\n",
        "        return 'Draw'"
      ],
      "metadata": {
        "id": "e1Yr-_OkjxyA"
      },
      "execution_count": 8,
      "outputs": []
    },
    {
      "cell_type": "markdown",
      "source": [
        "![image.png](data:image/png;base64,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)"
      ],
      "metadata": {
        "id": "ryWM7q2nYUgY"
      }
    },
    {
      "cell_type": "code",
      "source": [
        "# Main function\n",
        "def main(home_team, away_team):\n",
        "    # Load and preprocess data\n",
        "    matches, features = load_and_preprocess_data()\n",
        "\n",
        "    # Split data for home and away goal prediction\n",
        "    X_train, X_test, y_home_train, y_home_test = prepare_data(matches, features, 'FTHG')\n",
        "    _, _, y_away_train, y_away_test = prepare_data(matches, features, 'FTAG')\n",
        "\n",
        "    # Preprocessing pipeline\n",
        "    preprocessor = create_preprocessor()\n",
        "    X_train = preprocessor.fit_transform(X_train)\n",
        "    X_test = preprocessor.transform(X_test)\n",
        "\n",
        "    # Train models\n",
        "    home_goal_model = train_random_forest(X_train, y_home_train)\n",
        "    away_goal_model = train_random_forest(X_train, y_away_train)\n",
        "\n",
        "    # Import models to joblib\n",
        "    joblib.dump(home_goal_model, 'modelo_gb_local.pkl')\n",
        "    joblib.dump(away_goal_model, 'modelo_gb_visitante.pkl')\n",
        "\n",
        "    # Evaluate models\n",
        "    y_home_pred = home_goal_model.predict(X_test)\n",
        "    y_away_pred = away_goal_model.predict(X_test)\n",
        "\n",
        "    print(f'Home Goal Prediction RMSE: {np.sqrt(mean_squared_error(y_home_test, y_home_pred))}')\n",
        "    print(f'Away Goal Prediction RMSE: {np.sqrt(mean_squared_error(y_away_test, y_away_pred))}')\n",
        "    print(f'Home Goal Prediction MSE: {mean_squared_error(y_home_test, y_home_pred)}')\n",
        "    print(f'Away Goal Prediction MSE: {mean_squared_error(y_away_test, y_away_pred)}')\n",
        "\n",
        "\n",
        "    # Calcular métricas\n",
        "    metrics = {\n",
        "      \"Model\": [\"Random Forest\"],\n",
        "      \"MSE\": [mean_squared_error(y_home_test, y_home_pred), [mean_squared_error(y_away_test, y_away_pred)]],\n",
        "    }\n",
        "\n",
        "    # Example prediction\n",
        "    historical_matches = matches.copy()\n",
        "    result = predict_match(home_team, away_team, historical_matches, preprocessor, home_goal_model, away_goal_model)\n",
        "    print(f'Match prediction: {result}')\n"
      ],
      "metadata": {
        "id": "-yqiJsW3j07B"
      },
      "execution_count": 9,
      "outputs": []
    },
    {
      "cell_type": "code",
      "source": [
        "if __name__ == \"__main__\":\n",
        "    main('Man City', 'Liverpool')"
      ],
      "metadata": {
        "colab": {
          "base_uri": "https://localhost:8080/"
        },
        "id": "NhYByKqrkTH7",
        "outputId": "ebec9f67-3776-4880-b9f1-0b7acd6fdc71"
      },
      "execution_count": 10,
      "outputs": [
        {
          "output_type": "stream",
          "name": "stdout",
          "text": [
            "Home Goal Prediction RMSE: 1.1341312083292332\n",
            "Away Goal Prediction RMSE: 1.1637386701609789\n",
            "Home Goal Prediction MSE: 1.2862535977063267\n",
            "Away Goal Prediction MSE: 1.3542876924280438\n",
            "Predicted goals: Man City 2 - 1 Liverpool\n",
            "Match prediction: Man City wins\n"
          ]
        }
      ]
    },
    {
      "cell_type": "code",
      "source": [
        "#### GRADIENT BOOSTING"
      ],
      "metadata": {
        "id": "8IQw7CBKWgbX"
      },
      "execution_count": 11,
      "outputs": []
    },
    {
      "cell_type": "code",
      "source": [
        "from xgboost import XGBRegressor\n",
        "from sklearn.metrics import mean_squared_error\n",
        "import numpy as np\n",
        "\n",
        "# Reemplazar la función de entrenamiento con Gradient Boosting\n",
        "def train_gradient_boosting(X_train, y_train):\n",
        "    \"\"\"\n",
        "    Entrena un modelo de Gradient Boosting utilizando XGBoost.\n",
        "    Args:\n",
        "        X_train (array): Características de entrenamiento.\n",
        "        y_train (array): Etiquetas de entrenamiento.\n",
        "    Returns:\n",
        "        model: Modelo entrenado.\n",
        "    \"\"\"\n",
        "    model = XGBRegressor(\n",
        "        n_estimators=100,  # Número de árboles\n",
        "        learning_rate=0.1,  # Tasa de aprendizaje\n",
        "        max_depth=6,       # Profundidad máxima de los árboles\n",
        "        subsample=0.8,     # Submuestreo de filas\n",
        "        colsample_bytree=0.8,  # Submuestreo de columnas\n",
        "        random_state=42\n",
        "    )\n",
        "    model.fit(X_train, y_train)\n",
        "    return model"
      ],
      "metadata": {
        "id": "zwGf0rIBXsTb"
      },
      "execution_count": 12,
      "outputs": []
    },
    {
      "cell_type": "code",
      "source": [
        "\n",
        "\n",
        "# Main function adaptada para GB\n",
        "def main(home_team, away_team):\n",
        "    # Load and preprocess data\n",
        "    matches, features = load_and_preprocess_data()\n",
        "\n",
        "    # Split data for home and away goal prediction\n",
        "    X_train, X_test, y_home_train, y_home_test = prepare_data(matches, features, 'FTHG')\n",
        "    _, _, y_away_train, y_away_test = prepare_data(matches, features, 'FTAG')\n",
        "\n",
        "    # Preprocessing pipeline\n",
        "    preprocessor = create_preprocessor()\n",
        "    X_train = preprocessor.fit_transform(X_train)\n",
        "    X_test = preprocessor.transform(X_test)\n",
        "\n",
        "    # Train Gradient Boosting models\n",
        "    home_goal_model = train_gradient_boosting(X_train, y_home_train)\n",
        "    away_goal_model = train_gradient_boosting(X_train, y_away_train)\n",
        "\n",
        "    # Evaluate models\n",
        "    y_home_pred = home_goal_model.predict(X_test)\n",
        "    y_away_pred = away_goal_model.predict(X_test)\n",
        "\n",
        "    # Evaluar el rendimiento utilizando RMSE\n",
        "    home_rmse = np.sqrt(mean_squared_error(y_home_test, y_home_pred))\n",
        "    home_mse = mean_squared_error(y_home_test, y_home_pred)\n",
        "    away_rmse = np.sqrt(mean_squared_error(y_away_test, y_away_pred))\n",
        "    away_mse = mean_squared_error(y_away_test, y_away_pred)\n",
        "    print(f'Home Goal Prediction RMSE: {home_rmse}')\n",
        "    print(f'Away Goal Prediction RMSE: {away_rmse}')\n",
        "    print(f'Home Goal Prediction MSE: {home_mse}')\n",
        "    print(f'Away Goal Prediction MSE: {away_mse}')\n",
        "    # Example prediction\n",
        "    historical_matches = matches.copy()\n",
        "    result = predict_match(home_team, away_team, historical_matches, preprocessor, home_goal_model, away_goal_model)\n",
        "    print(f'Match prediction: {result}')\n",
        "\n",
        "# Llamada a la función principal\n",
        "if __name__ == \"__main__\":\n",
        "    main('Man City', 'Liverpool')\n"
      ],
      "metadata": {
        "id": "0Iwl31OtmLoX",
        "outputId": "74aa1fbf-a971-4db1-f4b5-fbe7f8a902fe",
        "colab": {
          "base_uri": "https://localhost:8080/"
        }
      },
      "execution_count": 13,
      "outputs": [
        {
          "output_type": "stream",
          "name": "stdout",
          "text": [
            "Home Goal Prediction RMSE: 1.125235588415877\n",
            "Away Goal Prediction RMSE: 1.1588229142061308\n",
            "Home Goal Prediction MSE: 1.2661551294376245\n",
            "Away Goal Prediction MSE: 1.3428705464891895\n",
            "Predicted goals: Man City 3 - 1 Liverpool\n",
            "Match prediction: Man City wins\n"
          ]
        }
      ]
    },
    {
      "cell_type": "code",
      "source": [
        "!python --version"
      ],
      "metadata": {
        "id": "qr4WcwLelzMW",
        "outputId": "0e91af6b-8ea2-4dbe-e2c4-93b86e23d91d",
        "colab": {
          "base_uri": "https://localhost:8080/"
        }
      },
      "execution_count": 14,
      "outputs": [
        {
          "output_type": "stream",
          "name": "stdout",
          "text": [
            "Python 3.10.12\n"
          ]
        }
      ]
    }
  ]
}